{
  "nbformat": 4,
  "nbformat_minor": 0,
  "metadata": {
    "colab": {
      "provenance": []
    },
    "kernelspec": {
      "name": "python3",
      "display_name": "Python 3"
    },
    "language_info": {
      "name": "python"
    }
  },
  "cells": [
    {
      "cell_type": "code",
      "execution_count": null,
      "metadata": {
        "id": "pPPJWccg2fOd"
      },
      "outputs": [],
      "source": []
    },
    {
      "cell_type": "markdown",
      "source": [
        "# **20240895_기초인공지능프로그래밍_마크다운실습**\n",
        "\n",
        "---\n",
        "\n",
        "## **자기소개**\n",
        "\n",
        "안녕하세요! 저는 **기초 인공지능 프로그래밍** 과목을 수강 중인 **전태훈**입니다.  \n",
        "---\n",
        "\n",
        "### **기본 정보**\n",
        "- **이름**: 전태훈\n",
        "- **학번**: 20240895  \n",
        "- **전공**: 경영학부  \n",
        "- **이메일**: <kenobi1797@naver.com>\n",
        "---\n",
        "\n",
        "### **목표**\n",
        "> ### 목표\n",
        "> #### 단기목표\n",
        ">> 기인프 에이쁠\n",
        ">> 공부 열심히 하기  \n",
        "\n",
        "---\n",
        "\n",
        "### **장점과 단점**\n",
        "다음은 저의 장점과 단점입니다:\n",
        "\n",
        "- **장점**  \n",
        "  1. 친한사람에게 잘함  \n",
        "  2. 운동을 잘함\n",
        "- **단점**\n",
        "  1. 급한 성격\n",
        "  2. 공부를 매우 싫어함    \n",
        "---\n",
        "\n",
        "### **학교**\n",
        "### 서강대학교\n",
        "![서강대](https://i.namu.wiki/i/VCRJQqdfFCSmWEbOQRqI1Oc9ahSseGBtP9vRrkED23f8LskzEyuUdIbULgDgJLe8wADHTBXxDhFl9qZsbL_xxDDVez2L6pdLkBGHQDBBH0cki926wI7xCZpGUrnwXAIL5T8MID8d_TPDsNoyKFRyVg.svg)\n",
        "---\n",
        "\n",
        "감사합니다!"
      ],
      "metadata": {
        "id": "LR-TqM9A23Tt"
      }
    }
  ]
}